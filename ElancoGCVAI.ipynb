{
  "nbformat": 4,
  "nbformat_minor": 0,
  "metadata": {
    "colab": {
      "provenance": []
    },
    "kernelspec": {
      "name": "python3",
      "display_name": "Python 3"
    },
    "language_info": {
      "name": "python"
    }
  },
  "cells": [
    {
      "cell_type": "markdown",
      "source": [
        "**install google cloud vision to env**"
      ],
      "metadata": {
        "id": "Up0hQUItFhmR"
      }
    },
    {
      "cell_type": "code",
      "source": [
        "!pip install google-cloud-vision"
      ],
      "metadata": {
        "id": "ifvrkV8a6eLi"
      },
      "execution_count": null,
      "outputs": []
    },
    {
      "cell_type": "markdown",
      "source": [
        "**Main Script**"
      ],
      "metadata": {
        "id": "-48w2tnjF024"
      }
    },
    {
      "cell_type": "code",
      "execution_count": 20,
      "metadata": {
        "id": "efPZViY75rt2"
      },
      "outputs": [],
      "source": [
        "import io\n",
        "import os\n",
        "import pandas as pd\n",
        "\n",
        "# Set the Google Cloud API key as an environment variable\n",
        "os.environ[\"GOOGLE_APPLICATION_CREDENTIALS\"] = \"/content/key.json\"\n",
        "\n",
        "# Imports the Google Cloud client library\n",
        "from google.cloud import vision\n",
        "from google.cloud.vision_v1 import types\n",
        "\n",
        "# Instantiates a client\n",
        "client = vision.ImageAnnotatorClient()\n",
        "\n",
        "file_name = \"/content/cat.png\"\n",
        "\n",
        "# Loads the image into memory\n",
        "with io.open(file_name, 'rb') as image_file:\n",
        "    content = image_file.read()\n",
        "\n",
        "image = types.Image(content=content)\n",
        "\n",
        "# Perform label detection on the image file\n",
        "response = client.label_detection(image=image)\n",
        "labels = response.label_annotations"
      ]
    },
    {
      "cell_type": "markdown",
      "source": [
        "**Export the array list to a pandas dataframe**"
      ],
      "metadata": {
        "id": "4nR4yhfbF-8I"
      }
    },
    {
      "cell_type": "code",
      "source": [
        "df = pd.DataFrame(columns=['description', 'score'])\n",
        "\n",
        "for label in labels:\n",
        "    df = df.append(\n",
        "        dict(\n",
        "            description=label.description,\n",
        "            score=label.score,\n",
        "        ), ignore_index=True)\n",
        "    \n",
        "print(df)\n"
      ],
      "metadata": {
        "colab": {
          "base_uri": "https://localhost:8080/"
        },
        "id": "QjoIuvsbCYgS",
        "outputId": "fd701d2e-75d6-4cf9-91fd-f78b0872d3fb"
      },
      "execution_count": 21,
      "outputs": [
        {
          "output_type": "stream",
          "name": "stdout",
          "text": [
            "                  description     score\n",
            "0                         Cat  0.954751\n",
            "1                         Eye  0.934121\n",
            "2                     Felidae  0.873653\n",
            "3                      Bombay  0.853826\n",
            "4                   Carnivore  0.852534\n",
            "5  Small to medium-sized cats  0.827956\n",
            "6                    Whiskers  0.806613\n",
            "7                         Ear  0.749040\n",
            "8                       Snout  0.738606\n",
            "9                   Black cat  0.729012\n"
          ]
        }
      ]
    },
    {
      "cell_type": "markdown",
      "source": [
        "**Save the df as csv to be used by the front end**"
      ],
      "metadata": {
        "id": "vxwpa6J-GJNv"
      }
    },
    {
      "cell_type": "code",
      "source": [
        "df.to_csv('outputDoc.csv')"
      ],
      "metadata": {
        "id": "UVzHkLvBFZX9"
      },
      "execution_count": 22,
      "outputs": []
    }
  ]
}